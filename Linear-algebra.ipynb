{
 "cells": [
  {
   "cell_type": "markdown",
   "id": "e0e22607-5412-437d-a603-ff17ed17f51e",
   "metadata": {},
   "source": [
    "## Class exercise\n",
    "Given the below dictionarys find out where each of the 4 people find the cheapest shopping according to their needs.\n",
    "```python\n",
    "shoppers = {\n",
    "'Paula':{'Is':4,'Juice':2,'Kakao':3,'Lagkager':2},\n",
    "'Peter':{'Is':2,'Juice':5,'Kakao':0, 'Lagkager':4},\n",
    "'Pandora':{'Is':5,'Juice':3, 'Kakao':4, 'Lagkager':5},\n",
    "'Pietro':{'Is':1,'Juice':8, 'Kakao':9, 'Lagkager':1}\n",
    "}\n",
    "shop_prices = {\n",
    "    'Netto': {'Is':10.50,'Juice':2.25,'Kakao':4.50,'Lagkager':33.50},\n",
    "    'Fakta': {'Is':4.00,'Juice':4.50,'Kakao':6.25,'Lagkager':20.00}\n",
    "}\n",
    "```\n",
    "Hint: you can use pandas and Transpose to create dataframe: `pd.DataFrame(shoppers).T` to get the necessary shape of the dataframe/matrix. Also use df.to_numpy() to changes a Pandas DataFrame df into a numpy ndarray with only the numeric data\n"
   ]
  },
  {
   "cell_type": "code",
   "execution_count": 2,
   "id": "b4cd7d1d-4862-45e0-bf09-7c42532b59b5",
   "metadata": {},
   "outputs": [],
   "source": [
    "shoppers = {\n",
    "'Paula':{'Is':4,'Juice':2,'Kakao':3,'Lagkager':2},\n",
    "'Peter':{'Is':2,'Juice':5,'Kakao':0, 'Lagkager':4},\n",
    "'Pandora':{'Is':5,'Juice':3, 'Kakao':4, 'Lagkager':5},\n",
    "'Pietro':{'Is':1,'Juice':8, 'Kakao':9, 'Lagkager':1}\n",
    "}\n",
    "shop_prices = {\n",
    "    'Netto': {'Is':10.50,'Juice':2.25,'Kakao':4.50,'Lagkager':33.50},\n",
    "    'Fakta': {'Is':4.00,'Juice':4.50,'Kakao':6.25,'Lagkager':20.00}\n",
    "}"
   ]
  },
  {
   "cell_type": "code",
   "execution_count": 48,
   "id": "7aefbf8b-e6b3-4ca3-8059-89dea00c2992",
   "metadata": {},
   "outputs": [],
   "source": [
    "import pandas as pd\n",
    "import numpy as py\n",
    "\n",
    "df_shoppers = pd.DataFrame(shoppers).T\n",
    "df_prices = pd.DataFrame(shop_prices)\n",
    "\n",
    "shoppers_ndarray = df_shoppers.to_numpy()\n",
    "prices_ndarray = df_prices.to_numpy()"
   ]
  },
  {
   "cell_type": "code",
   "execution_count": 50,
   "id": "2e146998-6e74-4212-a8d1-990aa6cb31ba",
   "metadata": {},
   "outputs": [
    {
     "data": {
      "text/plain": [
       "array([[10.5 ,  4.  ],\n",
       "       [ 2.25,  4.5 ],\n",
       "       [ 4.5 ,  6.25],\n",
       "       [33.5 , 20.  ]])"
      ]
     },
     "execution_count": 50,
     "metadata": {},
     "output_type": "execute_result"
    }
   ],
   "source": [
    "prices_ndarray"
   ]
  },
  {
   "cell_type": "code",
   "execution_count": 49,
   "id": "7019aaff-62df-4786-a04e-d2f94c743c12",
   "metadata": {},
   "outputs": [
    {
     "data": {
      "text/plain": [
       "array([[4, 2, 3, 2],\n",
       "       [2, 5, 0, 4],\n",
       "       [5, 3, 4, 5],\n",
       "       [1, 8, 9, 1]])"
      ]
     },
     "execution_count": 49,
     "metadata": {},
     "output_type": "execute_result"
    }
   ],
   "source": [
    "shoppers_ndarray"
   ]
  },
  {
   "cell_type": "code",
   "execution_count": 51,
   "id": "1e367f61-6428-4437-ab60-bbc27cb3e47f",
   "metadata": {},
   "outputs": [
    {
     "data": {
      "text/plain": [
       "array([[127.  ,  83.75],\n",
       "       [166.25, 110.5 ],\n",
       "       [244.75, 158.5 ],\n",
       "       [102.5 , 116.25]])"
      ]
     },
     "execution_count": 51,
     "metadata": {},
     "output_type": "execute_result"
    }
   ],
   "source": [
    "shoppers_ndarray.dot(prices_ndarray)"
   ]
  }
 ],
 "metadata": {
  "kernelspec": {
   "display_name": "Python 3 (ipykernel)",
   "language": "python",
   "name": "python3"
  },
  "language_info": {
   "codemirror_mode": {
    "name": "ipython",
    "version": 3
   },
   "file_extension": ".py",
   "mimetype": "text/x-python",
   "name": "python",
   "nbconvert_exporter": "python",
   "pygments_lexer": "ipython3",
   "version": "3.10.6"
  }
 },
 "nbformat": 4,
 "nbformat_minor": 5
}
