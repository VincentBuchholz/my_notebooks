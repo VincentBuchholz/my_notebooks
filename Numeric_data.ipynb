{
 "cells": [
  {
   "cell_type": "markdown",
   "id": "7bee8faa-342b-42f8-b10a-01ca619991c9",
   "metadata": {},
   "source": [
    "## 01 Exercise\n",
    "\n",
    "* Use the `CountVectorizer` from `sklearn.feature_extraction` to read the book `data/moby_dick.txt`\n",
    "  * How many times does the word 'wood' appear?"
   ]
  },
  {
   "cell_type": "code",
   "execution_count": 1,
   "id": "b9f88f25-dfbe-48fb-b4d6-3296cbb54e24",
   "metadata": {},
   "outputs": [
    {
     "name": "stdout",
     "output_type": "stream",
     "text": [
      "wood occurs [[37]] times in the text\n"
     ]
    }
   ],
   "source": [
    "from sklearn.feature_extraction.text import CountVectorizer\n",
    "\n",
    "vectorizer = CountVectorizer()\n",
    "\n",
    "with open(\"../data/moby_dick.txt\") as f:\n",
    "    corpus = f.readlines()\n",
    "\n",
    "fit = vectorizer.fit_transform(corpus)\n",
    "res = fit.todense() # returns a numpy array of same shape\n",
    "wood_idx = vectorizer.vocabulary_['wood']\n",
    "wood_count = sum(res[:,wood_idx])\n",
    "print('wood occurs {} times in the text'.format(wood_count))"
   ]
  },
  {
   "cell_type": "code",
   "execution_count": null,
   "id": "8d4c8a9e-33dc-4c3c-b4e9-bdebe60731f1",
   "metadata": {},
   "outputs": [],
   "source": []
  }
 ],
 "metadata": {
  "kernelspec": {
   "display_name": "Python 3 (ipykernel)",
   "language": "python",
   "name": "python3"
  },
  "language_info": {
   "codemirror_mode": {
    "name": "ipython",
    "version": 3
   },
   "file_extension": ".py",
   "mimetype": "text/x-python",
   "name": "python",
   "nbconvert_exporter": "python",
   "pygments_lexer": "ipython3",
   "version": "3.10.6"
  }
 },
 "nbformat": 4,
 "nbformat_minor": 5
}
