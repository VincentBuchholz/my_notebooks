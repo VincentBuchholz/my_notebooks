{
 "cells": [
  {
   "cell_type": "markdown",
   "id": "a8191085-3226-4faf-9909-e52cfa01ed12",
   "metadata": {
    "tags": []
   },
   "source": [
    "# Exercise for the 3rd course week\n",
    "\n",
    "## Ex 1 Classes\n",
    "1. Create 3 classes: Student, DataSheet and Course\n",
    "2. A student has a data_sheet and a data_sheet has multiple courses in particular order\n",
    "3. Each course has name, classroom, teacher, ETCS and optional grade if course is taken.\n",
    "4. In Student update `__init__()` so that a Student can be initiated with name, gender, data_sheet and image_url\n",
    "5. In DataSheet create a method to get_grades_as_list()\n",
    "6. In student create a method: get_avg_grade()\n",
    "7. Create a function that can generate n number of students with random: name, gender, courses (from a fixed list of course names), grades, img_url\n",
    "   1. Let the function write the result to a csv file with format stud_name, course_name, teacher, ,gender, ects, classroom, grade, img_url\n",
    "7. Read student data into a list of Students from a csv file (Each student can appear on multiple lines): \n",
    "   1. loop through the list and print each student with name, img_url and avg_grade.\n",
    "   2. sort the list by avg_grade\n",
    "   3. create a bar chart with student_name on x and avg_grade on y-axis\n",
    "8. Make a method on Student class that can show progression of the study in % (add up ECTS from all passed courses divided by total of 150 total points (equivalent to 5 semesters))\n",
    "9. Show a bar chart of distribution of study progression on x-axis and number of students in each category on y-axis. (e.g. make 10 categories from 0-100%)\n",
    "\n",
    "Extra: Make the Datasheet class iterable so that next(data_sheet) will return the next course in the list\n"
   ]
  },
  {
   "cell_type": "code",
   "execution_count": 155,
   "id": "1d0aee3f-d625-47a5-bbad-0715cd59f7b1",
   "metadata": {},
   "outputs": [],
   "source": [
    "\n",
    "class Student():\n",
    "    def __init__(self,name,gender,data_sheet,img_url,stud_id=None):\n",
    "        self.name = name\n",
    "        self.gender = gender\n",
    "        self.data_sheet = data_sheet\n",
    "        self.img_url = img_url\n",
    "        self.stud_id = stud_id\n",
    "        \n",
    "    def __str__(self):\n",
    "        return 'name: {name}, gender: {gender}, data_sheet: {data_sheet}, img_url: {img_url}.'.format(\n",
    "        name=self.name, gender=self.gender, data_sheet=self.data_sheet,img_url=self.img_url)\n",
    "    def __repr__(self):\n",
    "        return 'Student(%r, %r, %r, %r, %r)' % (self.name, self.gender, self.data_sheet,self.img_url,self.stud_id)\n",
    "    \n",
    "    def get_avg_grade(self):\n",
    "        grades = self.data_sheet.get_grades_as_list()\n",
    "        return sum(grades)/len(grades)\n",
    "    \n",
    "    def get_progression(self):\n",
    "        ECTS_total = 0\n",
    "        for course in self.data_sheet.courses:\n",
    "            ECTS_total += course.ECTS\n",
    "            \n",
    "        return (ECTS_total/150)*100\n",
    "    \n",
    "\n",
    "class DataSheet():\n",
    "    def __init__(self,courses=[]):\n",
    "        self.courses = courses\n",
    "        \n",
    "    def get_grades_as_list(self):\n",
    "        grades = []\n",
    "        for course in self.courses:\n",
    "            grades.append(course.grade)\n",
    "        return grades\n",
    "    \n",
    "    def __str__(self):\n",
    "            return 'courses: {courses}.'.format(\n",
    "            courses=self.courses)\n",
    "    def __repr__(self):\n",
    "        return 'DataSheet(%r)' % (self.courses)\n",
    "    \n",
    "\n",
    "class Course():\n",
    "    def __init__(self,name,classroom,teacher,ECTS,grade=None):\n",
    "        self.name = name\n",
    "        self.classroom = classroom\n",
    "        self.teacher = teacher\n",
    "        self.ECTS = float(ECTS)\n",
    "        self.grade=float(grade)\n",
    "        \n",
    "    def __str__(self):\n",
    "        return 'name: {name}, classroom: {classroom}, teacher: {teacher}, ECTS: {ECTS}, grade: {grade}.'.format(\n",
    "        name=self.name, classroom=self.classroom, teacher=self.teacher,ECTS=self.ECTS,grade=self.grade)\n",
    "    def __repr__(self):\n",
    "        return 'Course(%r, %r, %r, %r, %r)' % (self.name, self.classroom, self.teacher,self.ECTS,self.grade)\n",
    "        \n",
    "    "
   ]
  },
  {
   "cell_type": "markdown",
   "id": "d0f8d3ab-8e71-45e0-b0cc-365a7d255c99",
   "metadata": {},
   "source": [
    "Create a function that can generate n number of students with random: name, gender, courses (from a fixed list of course names), grades, img_url\n",
    "Let the function write the result to a csv file with format stud_name, course_name, teacher, ,gender, ects, classroom, grade, img_url"
   ]
  },
  {
   "cell_type": "code",
   "execution_count": 182,
   "id": "955d67a5-fc77-4459-a545-44ef44536d23",
   "metadata": {},
   "outputs": [],
   "source": [
    "import names\n",
    "import random as rnd\n",
    "import csv\n",
    "\n",
    "def generate_students(number_of_students):\n",
    "    #grades = [-3,0,2,4,7,10,12]\n",
    "    #courses = [Course('Math','CL_1','Hans',10,rnd.choice(grades)),Course('Sience','CL_2','Lars',10,rnd.choice(grades)),Course('English','CL_3','Peter',10,rnd.choice(grades)),Course('History','CL_4','Sven',10,rnd.choice(grades)),Course('Biology','CL_5','Helga',10,rnd.choice(grades))]\n",
    "    students = []\n",
    "    i=1\n",
    "    while i < number_of_students+1:\n",
    "        grades = [-3,0,2,4,7,10,12]\n",
    "        courses = [Course('Math','CL_1','Hans',10,rnd.choice(grades)),Course('Sience','CL_2','Lars',10,rnd.choice(grades)),Course('English','CL_3','Peter',10,rnd.choice(grades)),Course('History','CL_4','Sven',10,rnd.choice(grades)),Course('Biology','CL_5','Helga',10,rnd.choice(grades))]\n",
    "        gnd = rnd.choice(['male','female'])\n",
    "        students.append(Student(names.get_full_name(gender=gnd),gnd,DataSheet(rnd.sample(courses,k=rnd.randrange(1,6))),'img_url',i))\n",
    "        i+=1\n",
    "    \n",
    "    with open('students.csv', 'w') as file:\n",
    "        output_writer = csv.writer(file)\n",
    "        output_writer.writerow(['id','stud_name','course_name','teacher','gender','ects','classroom','grade','img_url'])\n",
    "        \n",
    "        for student in students:\n",
    "            for course in student.data_sheet.courses:\n",
    "                output_writer.writerow([student.stud_id,student.name,course.name,course.teacher,student.gender,course.ECTS,course.classroom,course.grade,student.img_url])\n",
    "    \n",
    "\n",
    "\n",
    "    "
   ]
  },
  {
   "cell_type": "code",
   "execution_count": 184,
   "id": "1c1bdd71-8784-48c1-96cc-68db35001335",
   "metadata": {},
   "outputs": [],
   "source": [
    "generate_students(10)\n"
   ]
  },
  {
   "cell_type": "code",
   "execution_count": 10,
   "id": "e8511138-e16a-4767-af7c-b49d3f8239f4",
   "metadata": {},
   "outputs": [
    {
     "name": "stdout",
     "output_type": "stream",
     "text": [
      "[['1', 'Clint Young', 'Math', 'Hans', 'male', '10', 'CL_1', '7', 'img_url'], ['1', 'Clint Young', 'Sience', 'Lars', 'male', '10', 'CL_2', '-3', 'img_url'], ['1', 'Clint Young', 'History', 'Sven', 'male', '10', 'CL_4', '0', 'img_url'], ['2', 'Elizabeth Chatfield', 'Biology', 'Helga', 'female', '10', 'CL_5', '4', 'img_url'], ['2', 'Elizabeth Chatfield', 'Math', 'Hans', 'female', '10', 'CL_1', '10', 'img_url'], ['2', 'Elizabeth Chatfield', 'History', 'Sven', 'female', '10', 'CL_4', '12', 'img_url'], ['3', 'Patrick Alvarez', 'English', 'Peter', 'male', '10', 'CL_3', '0', 'img_url'], ['3', 'Patrick Alvarez', 'Biology', 'Helga', 'male', '10', 'CL_5', '0', 'img_url'], ['3', 'Patrick Alvarez', 'History', 'Sven', 'male', '10', 'CL_4', '-3', 'img_url'], ['4', 'Michael Ashford', 'Math', 'Hans', 'male', '10', 'CL_1', '10', 'img_url'], ['4', 'Michael Ashford', 'English', 'Peter', 'male', '10', 'CL_3', '12', 'img_url'], ['4', 'Michael Ashford', 'History', 'Sven', 'male', '10', 'CL_4', '-3', 'img_url'], ['5', 'Gloria Reed', 'Biology', 'Helga', 'female', '10', 'CL_5', '10', 'img_url'], ['5', 'Gloria Reed', 'Math', 'Hans', 'female', '10', 'CL_1', '10', 'img_url'], ['5', 'Gloria Reed', 'English', 'Peter', 'female', '10', 'CL_3', '10', 'img_url']]\n"
     ]
    }
   ],
   "source": [
    "def read_students():\n",
    "    students =[]\n",
    "\n",
    "    with open('students.csv') as f:\n",
    "        reader = csv.reader(f)\n",
    "        header_row = next(reader)\n",
    "        \n",
    "        for row in reader:\n",
    "            students.append(row)\n",
    "    return students\n",
    "\n",
    "print(read_students())"
   ]
  },
  {
   "cell_type": "markdown",
   "id": "19128e5d-7593-4ac0-a304-1d29d7cd3d93",
   "metadata": {},
   "source": [
    "loop through the list and print each student with name, img_url and avg_grade."
   ]
  },
  {
   "cell_type": "code",
   "execution_count": 121,
   "id": "b3ccb85d-b43b-4cd8-84d9-bcdfb4be6d19",
   "metadata": {},
   "outputs": [],
   "source": [
    "def get_student_objects(student_list):\n",
    "    student = []\n",
    "    students = []\n",
    "    student_id = '0'\n",
    "    student_id_prev = '0'\n",
    "    student_courses =[]\n",
    "    \n",
    "    for line in student_list:\n",
    "        student_id = line[0]\n",
    "        \n",
    "        if student_id == student_id_prev:\n",
    "            student.append(line)\n",
    "        else:\n",
    "            student_id_prev = line[0]\n",
    "            if len(student) > 0:\n",
    "                for student_info in student:\n",
    "                    student_courses.append(Course(student_info[2],student_info[6],student_info[3],student_info[5],student_info[7]))\n",
    "                students.append(Student(student_info[1],student_info[4],DataSheet(student_courses),student_info[-1],student_info[0]))\n",
    "                student_courses=[]\n",
    "                student = []\n",
    "                student.append(line)\n",
    "            else:\n",
    "                student.append(line)\n",
    "                \n",
    "    if len(student) > 0:\n",
    "        for student_info in student:\n",
    "            student_courses.append(Course(student_info[2],student_info[6],student_info[3],student_info[5],student_info[7]))\n",
    "        students.append(Student(student_info[1],student_info[4],DataSheet(student_courses),student_info[-1],student_info[0]))\n",
    "        \n",
    "    return students\n"
   ]
  },
  {
   "cell_type": "code",
   "execution_count": 185,
   "id": "2b1734ad-299e-40f5-a470-b09ecb871726",
   "metadata": {},
   "outputs": [
    {
     "name": "stdout",
     "output_type": "stream",
     "text": [
      "-----------\n",
      "name: Victoria Hunt\n",
      "AVG grade: 6.0\n",
      "image_url: img_url\n",
      "-----------\n",
      "-----------\n",
      "name: Shaun Guffey\n",
      "AVG grade: 6.0\n",
      "image_url: img_url\n",
      "-----------\n",
      "-----------\n",
      "name: Arthur Osei\n",
      "AVG grade: -3.0\n",
      "image_url: img_url\n",
      "-----------\n",
      "-----------\n",
      "name: Bianca Kuntz\n",
      "AVG grade: 12.0\n",
      "image_url: img_url\n",
      "-----------\n",
      "-----------\n",
      "name: Eddie Mark\n",
      "AVG grade: 2.5\n",
      "image_url: img_url\n",
      "-----------\n",
      "-----------\n",
      "name: Mary Corbin\n",
      "AVG grade: 1.0\n",
      "image_url: img_url\n",
      "-----------\n",
      "-----------\n",
      "name: Elizabeth Rodriguez\n",
      "AVG grade: 2.0\n",
      "image_url: img_url\n",
      "-----------\n",
      "-----------\n",
      "name: Brook Schmidt\n",
      "AVG grade: 7.75\n",
      "image_url: img_url\n",
      "-----------\n",
      "-----------\n",
      "name: Wayne Kawai\n",
      "AVG grade: 5.6\n",
      "image_url: img_url\n",
      "-----------\n",
      "-----------\n",
      "name: Marie Johnson\n",
      "AVG grade: 9.0\n",
      "image_url: img_url\n",
      "-----------\n"
     ]
    }
   ],
   "source": [
    "for student in get_student_objects(read_students()):\n",
    "    print('-----------')\n",
    "    print(f'name: {student.name}')\n",
    "    print(f'AVG grade: {student.get_avg_grade()}')\n",
    "    print(f'image_url: {student.img_url}')\n",
    "    print('-----------')"
   ]
  },
  {
   "cell_type": "markdown",
   "id": "26abea08-2dc7-4ad5-9f8c-6f3866b2b2c7",
   "metadata": {},
   "source": [
    "sort the list by avg_grade"
   ]
  },
  {
   "cell_type": "code",
   "execution_count": 186,
   "id": "807fd3a3-1754-4172-a822-5d38c893f267",
   "metadata": {},
   "outputs": [
    {
     "name": "stdout",
     "output_type": "stream",
     "text": [
      "-3.0\n",
      "1.0\n",
      "2.0\n",
      "2.5\n",
      "5.6\n",
      "6.0\n",
      "6.0\n",
      "7.75\n",
      "9.0\n",
      "12.0\n"
     ]
    }
   ],
   "source": [
    "student_list = get_student_objects(read_students())\n",
    "\n",
    "student_list.sort(key=lambda student: student.get_avg_grade())\n",
    "\n",
    "for student in student_list:\n",
    "    print(student.get_avg_grade())"
   ]
  },
  {
   "cell_type": "markdown",
   "id": "667e4ec2-2e93-4b4d-bdff-4a3d787da1b1",
   "metadata": {},
   "source": [
    "create a bar chart with student_name on x and avg_grade on y-axis"
   ]
  },
  {
   "cell_type": "code",
   "execution_count": 187,
   "id": "b2eb5121-c95f-4c76-8a63-6b62aa6bbcee",
   "metadata": {},
   "outputs": [
    {
     "data": {
      "text/plain": [
       "([0, 1, 2, 3, 4, 5, 6, 7, 8, 9],\n",
       " [Text(0, 0, ''),\n",
       "  Text(0, 0, ''),\n",
       "  Text(0, 0, ''),\n",
       "  Text(0, 0, ''),\n",
       "  Text(0, 0, ''),\n",
       "  Text(0, 0, ''),\n",
       "  Text(0, 0, ''),\n",
       "  Text(0, 0, ''),\n",
       "  Text(0, 0, ''),\n",
       "  Text(0, 0, '')])"
      ]
     },
     "execution_count": 187,
     "metadata": {},
     "output_type": "execute_result"
    },
    {
     "data": {
      "image/png": "[encoded data removed]",
      "text/plain": [
       "<Figure size 640x480 with 1 Axes>"
      ]
     },
     "metadata": {},
     "output_type": "display_data"
    }
   ],
   "source": [
    "import matplotlib.pyplot as plt\n",
    "plt.bar([student.name for student in student_list],[student.get_avg_grade() for student in student_list],width=0.5, align='center')\n",
    "plt.xticks(rotation=45, horizontalalignment='right',fontweight='light')"
   ]
  },
  {
   "cell_type": "markdown",
   "id": "951a79cf-6db0-4ee1-9aff-260b4ab6b3ea",
   "metadata": {},
   "source": [
    "Make a method on Student class that can show progression of the study in % (add up ECTS from all passed courses divided by total of 150 total points (equivalent to 5 semesters))"
   ]
  },
  {
   "cell_type": "code",
   "execution_count": 188,
   "id": "263d959b-d859-4a16-be08-9043f0a24344",
   "metadata": {},
   "outputs": [],
   "source": [
    "progression_lst=[0,0,0,0,0,0,0,0,0,0]\n",
    "\n",
    "for student in student_list:\n",
    "    progression_lst[int(student.get_progression()/10-1)]+=1"
   ]
  },
  {
   "cell_type": "markdown",
   "id": "b2c490b2-0d61-4af7-92c0-fdf5c8a28ac6",
   "metadata": {},
   "source": [
    "Show a bar chart of distribution of study progression on x-axis and number of students in each category on y-axis. (e.g. make 10 categories from 0-100%)"
   ]
  },
  {
   "cell_type": "code",
   "execution_count": 189,
   "id": "ed18d968-38d5-4df8-90fb-68694ec3ae7b",
   "metadata": {},
   "outputs": [
    {
     "data": {
      "text/plain": [
       "(array([  0.,  20.,  40.,  60.,  80., 100., 120.]),\n",
       " [Text(0, 0, ''),\n",
       "  Text(0, 0, ''),\n",
       "  Text(0, 0, ''),\n",
       "  Text(0, 0, ''),\n",
       "  Text(0, 0, ''),\n",
       "  Text(0, 0, ''),\n",
       "  Text(0, 0, '')])"
      ]
     },
     "execution_count": 189,
     "metadata": {},
     "output_type": "execute_result"
    },
    {
     "data": {
      "image/png": "[encoded data removed]",
      "text/plain": [
       "<Figure size 640x480 with 1 Axes>"
      ]
     },
     "metadata": {},
     "output_type": "display_data"
    }
   ],
   "source": [
    "plt.bar([10,20,30,40,50,60,70,80,90,100],progression_lst,width=0.5, align='center')\n",
    "plt.xticks(rotation=45, horizontalalignment='right',fontweight='light')"
   ]
  },
  {
   "cell_type": "code",
   "execution_count": 181,
   "id": "3e5830b2-42f4-47eb-8a06-a4022490cc28",
   "metadata": {},
   "outputs": [
    {
     "data": {
      "text/plain": [
       "4"
      ]
     },
     "execution_count": 181,
     "metadata": {},
     "output_type": "execute_result"
    }
   ],
   "source": []
  },
  {
   "cell_type": "code",
   "execution_count": null,
   "id": "93bc6655-f655-4ec4-a8f2-4817a2a99477",
   "metadata": {},
   "outputs": [],
   "source": []
  }
 ],
 "metadata": {
  "kernelspec": {
   "display_name": "Python 3 (ipykernel)",
   "language": "python",
   "name": "python3"
  },
  "language_info": {
   "codemirror_mode": {
    "name": "ipython",
    "version": 3
   },
   "file_extension": ".py",
   "mimetype": "text/x-python",
   "name": "python",
   "nbconvert_exporter": "python",
   "pygments_lexer": "ipython3",
   "version": "3.10.6"
  }
 },
 "nbformat": 4,
 "nbformat_minor": 5
}
