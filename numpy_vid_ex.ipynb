{
 "cells": [
  {
   "cell_type": "markdown",
   "id": "b2f5d411-371c-46d2-8e09-ed2657019b34",
   "metadata": {},
   "source": [
    "## Class exercise 1: table\n",
    "![](../images/numpy_slice_ex.png)\n",
    "- on the above image find the 5 different slicings using only the array slicing notation"
   ]
  },
  {
   "cell_type": "code",
   "execution_count": 6,
   "id": "cc154148-17d7-4876-a9c7-e340aadb5930",
   "metadata": {},
   "outputs": [
    {
     "data": {
      "text/plain": [
       "array([[10, 11, 12, 13, 14],\n",
       "       [15, 16, 17, 18, 19],\n",
       "       [20, 21, 22, 23, 24],\n",
       "       [25, 26, 27, 28, 29]])"
      ]
     },
     "execution_count": 6,
     "metadata": {},
     "output_type": "execute_result"
    }
   ],
   "source": [
    "import numpy as np\n",
    "\n",
    "table = np.arange(10,30).reshape(4,5)\n",
    "table"
   ]
  },
  {
   "cell_type": "code",
   "execution_count": 7,
   "id": "b2dbe2ba-7e81-43da-b503-2ed5a8f5cbb8",
   "metadata": {},
   "outputs": [
    {
     "data": {
      "text/plain": [
       "10"
      ]
     },
     "execution_count": 7,
     "metadata": {},
     "output_type": "execute_result"
    }
   ],
   "source": [
    "#yellow\n",
    "table[0,0]"
   ]
  },
  {
   "cell_type": "code",
   "execution_count": 11,
   "id": "0d6fa4c8-3657-4569-b165-c9708b60f67e",
   "metadata": {},
   "outputs": [
    {
     "data": {
      "text/plain": [
       "array([11, 12, 13])"
      ]
     },
     "execution_count": 11,
     "metadata": {},
     "output_type": "execute_result"
    }
   ],
   "source": [
    "#red\n",
    "table[0,1:4]"
   ]
  },
  {
   "cell_type": "code",
   "execution_count": 13,
   "id": "cc5bdfbf-74ab-4a6a-aa5d-a3eaa8039390",
   "metadata": {},
   "outputs": [
    {
     "data": {
      "text/plain": [
       "array([[11, 13],\n",
       "       [16, 18],\n",
       "       [21, 23],\n",
       "       [26, 28]])"
      ]
     },
     "execution_count": 13,
     "metadata": {},
     "output_type": "execute_result"
    }
   ],
   "source": [
    "#Light blue\n",
    "table[::,1::2]"
   ]
  },
  {
   "cell_type": "code",
   "execution_count": 14,
   "id": "2bd6be07-6877-4592-ad4f-eaee8255aa79",
   "metadata": {},
   "outputs": [
    {
     "data": {
      "text/plain": [
       "array([14, 24])"
      ]
     },
     "execution_count": 14,
     "metadata": {},
     "output_type": "execute_result"
    }
   ],
   "source": [
    "#dark blue\n",
    "table[0::2,-1]"
   ]
  },
  {
   "cell_type": "markdown",
   "id": "c59141f1-82cd-4218-8dc0-43a7cb71f9f2",
   "metadata": {},
   "source": [
    "![](../images/cube.png)"
   ]
  },
  {
   "cell_type": "markdown",
   "id": "69d0cf09-9b0c-4a8a-aee5-0b84b1c065e7",
   "metadata": {
    "tags": []
   },
   "source": [
    "## Class exercise 2: cube\n",
    "1. Slice out [12 13 14] from the above cube using only one slice. e.g: a[:,:,:]\n",
    "2. Slice out [3 12 21].\n",
    "3. Slice out all y-values where x is 2 and z is 0."
   ]
  },
  {
   "cell_type": "code",
   "execution_count": 17,
   "id": "7daa6b06-70b8-455b-ab4d-a75622e21660",
   "metadata": {},
   "outputs": [
    {
     "data": {
      "text/plain": [
       "array([[[ 0,  1,  2],\n",
       "        [ 3,  4,  5],\n",
       "        [ 6,  7,  8]],\n",
       "\n",
       "       [[ 9, 10, 11],\n",
       "        [12, 13, 14],\n",
       "        [15, 16, 17]],\n",
       "\n",
       "       [[18, 19, 20],\n",
       "        [21, 22, 23],\n",
       "        [24, 25, 26]]])"
      ]
     },
     "execution_count": 17,
     "metadata": {},
     "output_type": "execute_result"
    }
   ],
   "source": [
    "cube = np.arange(0, 27).reshape((3, 3, 3))\n",
    "cube"
   ]
  },
  {
   "cell_type": "code",
   "execution_count": 18,
   "id": "bc292256-5194-48d6-a2e4-384f12632ceb",
   "metadata": {},
   "outputs": [
    {
     "data": {
      "text/plain": [
       "array([12, 13, 14])"
      ]
     },
     "execution_count": 18,
     "metadata": {},
     "output_type": "execute_result"
    }
   ],
   "source": [
    "#Slice out [12 13 14] from the above cube using only one slice. e.g: a[:,:,:]\n",
    "cube[1,1,::]"
   ]
  },
  {
   "cell_type": "code",
   "execution_count": 19,
   "id": "76e90cce-6fe9-4c4b-aa70-52e9e81fd4f6",
   "metadata": {},
   "outputs": [
    {
     "data": {
      "text/plain": [
       "array([ 3, 12, 21])"
      ]
     },
     "execution_count": 19,
     "metadata": {},
     "output_type": "execute_result"
    }
   ],
   "source": [
    "#Slice out [3 12 21].\n",
    "cube[::,1,0]"
   ]
  },
  {
   "cell_type": "code",
   "execution_count": 20,
   "id": "76c7587a-c958-40e6-b7e2-f1789e0242e3",
   "metadata": {},
   "outputs": [
    {
     "data": {
      "text/plain": [
       "array([2, 5, 8])"
      ]
     },
     "execution_count": 20,
     "metadata": {},
     "output_type": "execute_result"
    }
   ],
   "source": [
    "#Slice out all y-values where x is 2 and z is 0.\n",
    "cube[0,::,2]"
   ]
  },
  {
   "cell_type": "markdown",
   "id": "92adec73-ac41-47a4-ab65-284fdc8f8a88",
   "metadata": {},
   "source": [
    "### Class exercise: masking\n",
    "- For the dataset: `data = np.arange(1,101).reshape(10,10)`\n",
    "  - apply a mask that will return only the even numbers\n",
    "  - using `np.where()` return only numbers that ends with 6\n"
   ]
  },
  {
   "cell_type": "code",
   "execution_count": 21,
   "id": "a50e8aa1-2478-47ff-be6d-3fd236512f42",
   "metadata": {},
   "outputs": [],
   "source": [
    "data = np.arange(1,101).reshape(10,10)"
   ]
  },
  {
   "cell_type": "code",
   "execution_count": 58,
   "id": "fea90e61-f4bb-423c-901e-3bfb13daa2d0",
   "metadata": {},
   "outputs": [
    {
     "data": {
      "text/plain": [
       "array([  2,   4,   6,   8,  10,  12,  14,  16,  18,  20,  22,  24,  26,\n",
       "        28,  30,  32,  34,  36,  38,  40,  42,  44,  46,  48,  50,  52,\n",
       "        54,  56,  58,  60,  62,  64,  66,  68,  70,  72,  74,  76,  78,\n",
       "        80,  82,  84,  86,  88,  90,  92,  94,  96,  98, 100])"
      ]
     },
     "execution_count": 58,
     "metadata": {},
     "output_type": "execute_result"
    }
   ],
   "source": [
    "even = np.where((data%2==0))\n",
    "data[even]"
   ]
  },
  {
   "cell_type": "code",
   "execution_count": 67,
   "id": "1260a629-923d-4ac7-8528-9c1c63324321",
   "metadata": {},
   "outputs": [
    {
     "data": {
      "text/plain": [
       "array([ 6, 16, 26, 36, 46, 56, 66, 76, 86, 96])"
      ]
     },
     "execution_count": 67,
     "metadata": {},
     "output_type": "execute_result"
    }
   ],
   "source": [
    "six = np.where(data%10==6)\n",
    "data[six]"
   ]
  },
  {
   "cell_type": "code",
   "execution_count": null,
   "id": "5337c5f0-89c2-476d-af9c-8306451100cc",
   "metadata": {},
   "outputs": [],
   "source": []
  }
 ],
 "metadata": {
  "kernelspec": {
   "display_name": "Python 3 (ipykernel)",
   "language": "python",
   "name": "python3"
  },
  "language_info": {
   "codemirror_mode": {
    "name": "ipython",
    "version": 3
   },
   "file_extension": ".py",
   "mimetype": "text/x-python",
   "name": "python",
   "nbconvert_exporter": "python",
   "pygments_lexer": "ipython3",
   "version": "3.10.6"
  }
 },
 "nbformat": 4,
 "nbformat_minor": 5
}
