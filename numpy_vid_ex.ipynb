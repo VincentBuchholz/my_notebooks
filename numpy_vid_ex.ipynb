{
 "cells": [
  {
   "cell_type": "markdown",
   "id": "b2f5d411-371c-46d2-8e09-ed2657019b34",
   "metadata": {},
   "source": [
    "## Class exercise 1: table\n",
    "![slicing](../images/numpy_slice_ex.png)\n",
    "- on the above image find the 5 different slicings using only the array slicing notation"
   ]
  },
  {
   "cell_type": "code",
   "execution_count": 1,
   "id": "cc154148-17d7-4876-a9c7-e340aadb5930",
   "metadata": {},
   "outputs": [
    {
     "data": {
      "text/plain": [
       "array([[10, 11, 12, 13, 14],\n",
       "       [15, 16, 17, 18, 19],\n",
       "       [20, 21, 22, 23, 24],\n",
       "       [25, 26, 27, 28, 29]])"
      ]
     },
     "execution_count": 1,
     "metadata": {},
     "output_type": "execute_result"
    }
   ],
   "source": [
    "import numpy as np\n",
    "\n",
    "table = np.arange(10,30).reshape(4,5)\n",
    "table"
   ]
  },
  {
   "cell_type": "code",
   "execution_count": 2,
   "id": "b2dbe2ba-7e81-43da-b503-2ed5a8f5cbb8",
   "metadata": {},
   "outputs": [
    {
     "data": {
      "text/plain": [
       "10"
      ]
     },
     "execution_count": 2,
     "metadata": {},
     "output_type": "execute_result"
    }
   ],
   "source": [
    "#yellow\n",
    "table[0,0]\n"
   ]
  },
  {
   "cell_type": "code",
   "execution_count": 11,
   "id": "0d6fa4c8-3657-4569-b165-c9708b60f67e",
   "metadata": {},
   "outputs": [
    {
     "data": {
      "text/plain": [
       "array([11, 12, 13])"
      ]
     },
     "execution_count": 11,
     "metadata": {},
     "output_type": "execute_result"
    }
   ],
   "source": [
    "#red\n",
    "table[0,1:4]"
   ]
  },
  {
   "cell_type": "code",
   "execution_count": 3,
   "id": "cc5bdfbf-74ab-4a6a-aa5d-a3eaa8039390",
   "metadata": {},
   "outputs": [
    {
     "data": {
      "text/plain": [
       "array([[11, 13],\n",
       "       [16, 18],\n",
       "       [21, 23],\n",
       "       [26, 28]])"
      ]
     },
     "execution_count": 3,
     "metadata": {},
     "output_type": "execute_result"
    }
   ],
   "source": [
    "#Light blue\n",
    "table[:,1::2]"
   ]
  },
  {
   "cell_type": "code",
   "execution_count": 4,
   "id": "2bd6be07-6877-4592-ad4f-eaee8255aa79",
   "metadata": {},
   "outputs": [
    {
     "data": {
      "text/plain": [
       "array([14, 24])"
      ]
     },
     "execution_count": 4,
     "metadata": {},
     "output_type": "execute_result"
    }
   ],
   "source": [
    "#dark blue\n",
    "table[0::2,-1]"
   ]
  },
  {
   "cell_type": "code",
   "execution_count": 6,
   "id": "4c42db77-d5e4-4a12-9a84-398882056fa2",
   "metadata": {},
   "outputs": [
    {
     "data": {
      "text/plain": [
       "array([12, 17, 22])"
      ]
     },
     "execution_count": 6,
     "metadata": {},
     "output_type": "execute_result"
    }
   ],
   "source": [
    "#green\n",
    "table[0:3,2]"
   ]
  },
  {
   "cell_type": "markdown",
   "id": "c59141f1-82cd-4218-8dc0-43a7cb71f9f2",
   "metadata": {},
   "source": [
    "![](../images/cube.png)"
   ]
  },
  {
   "cell_type": "markdown",
   "id": "69d0cf09-9b0c-4a8a-aee5-0b84b1c065e7",
   "metadata": {
    "tags": []
   },
   "source": [
    "## Class exercise 2: cube\n",
    "1. Slice out [12 13 14] from the above cube using only one slice. e.g: a[:,:,:]\n",
    "2. Slice out [3 12 21].\n",
    "3. Slice out all y-values where x is 2 and z is 0."
   ]
  },
  {
   "cell_type": "code",
   "execution_count": 17,
   "id": "7daa6b06-70b8-455b-ab4d-a75622e21660",
   "metadata": {},
   "outputs": [
    {
     "data": {
      "text/plain": [
       "array([[[ 0,  1,  2],\n",
       "        [ 3,  4,  5],\n",
       "        [ 6,  7,  8]],\n",
       "\n",
       "       [[ 9, 10, 11],\n",
       "        [12, 13, 14],\n",
       "        [15, 16, 17]],\n",
       "\n",
       "       [[18, 19, 20],\n",
       "        [21, 22, 23],\n",
       "        [24, 25, 26]]])"
      ]
     },
     "execution_count": 17,
     "metadata": {},
     "output_type": "execute_result"
    }
   ],
   "source": [
    "cube = np.arange(0, 27).reshape((3, 3, 3))\n",
    "cube"
   ]
  },
  {
   "cell_type": "code",
   "execution_count": 18,
   "id": "bc292256-5194-48d6-a2e4-384f12632ceb",
   "metadata": {},
   "outputs": [
    {
     "data": {
      "text/plain": [
       "array([12, 13, 14])"
      ]
     },
     "execution_count": 18,
     "metadata": {},
     "output_type": "execute_result"
    }
   ],
   "source": [
    "#Slice out [12 13 14] from the above cube using only one slice. e.g: a[:,:,:]\n",
    "cube[1,1,::]"
   ]
  },
  {
   "cell_type": "code",
   "execution_count": 19,
   "id": "76e90cce-6fe9-4c4b-aa70-52e9e81fd4f6",
   "metadata": {},
   "outputs": [
    {
     "data": {
      "text/plain": [
       "array([ 3, 12, 21])"
      ]
     },
     "execution_count": 19,
     "metadata": {},
     "output_type": "execute_result"
    }
   ],
   "source": [
    "#Slice out [3 12 21].\n",
    "cube[::,1,0]"
   ]
  },
  {
   "cell_type": "code",
   "execution_count": 20,
   "id": "76c7587a-c958-40e6-b7e2-f1789e0242e3",
   "metadata": {},
   "outputs": [
    {
     "data": {
      "text/plain": [
       "array([2, 5, 8])"
      ]
     },
     "execution_count": 20,
     "metadata": {},
     "output_type": "execute_result"
    }
   ],
   "source": [
    "#Slice out all y-values where x is 2 and z is 0.\n",
    "cube[0,::,2]"
   ]
  },
  {
   "cell_type": "markdown",
   "id": "92adec73-ac41-47a4-ab65-284fdc8f8a88",
   "metadata": {},
   "source": [
    "### Class exercise: masking\n",
    "- For the dataset: `data = np.arange(1,101).reshape(10,10)`\n",
    "  - apply a mask that will return only the even numbers\n",
    "  - using `np.where()` return only numbers that ends with 6\n"
   ]
  },
  {
   "cell_type": "code",
   "execution_count": 8,
   "id": "a50e8aa1-2478-47ff-be6d-3fd236512f42",
   "metadata": {},
   "outputs": [],
   "source": [
    "data = np.arange(1,101).reshape(10,10)"
   ]
  },
  {
   "cell_type": "code",
   "execution_count": 11,
   "id": "fea90e61-f4bb-423c-901e-3bfb13daa2d0",
   "metadata": {},
   "outputs": [
    {
     "name": "stderr",
     "output_type": "stream",
     "text": [
      "/tmp/ipykernel_114/2614967736.py:2: FutureWarning: Using a non-tuple sequence for multidimensional indexing is deprecated; use `arr[tuple(seq)]` instead of `arr[seq]`. In the future this will be interpreted as an array index, `arr[np.array(seq)]`, which will result either in an error or a different result.\n",
      "  data[even]\n"
     ]
    },
    {
     "data": {
      "text/plain": [
       "array([  2,   4,   6,   8,  10,  12,  14,  16,  18,  20,  22,  24,  26,\n",
       "        28,  30,  32,  34,  36,  38,  40,  42,  44,  46,  48,  50,  52,\n",
       "        54,  56,  58,  60,  62,  64,  66,  68,  70,  72,  74,  76,  78,\n",
       "        80,  82,  84,  86,  88,  90,  92,  94,  96,  98, 100])"
      ]
     },
     "execution_count": 11,
     "metadata": {},
     "output_type": "execute_result"
    }
   ],
   "source": [
    "even = [data%2==0]\n",
    "data[even]"
   ]
  },
  {
   "cell_type": "code",
   "execution_count": 67,
   "id": "1260a629-923d-4ac7-8528-9c1c63324321",
   "metadata": {},
   "outputs": [
    {
     "data": {
      "text/plain": [
       "array([ 6, 16, 26, 36, 46, 56, 66, 76, 86, 96])"
      ]
     },
     "execution_count": 67,
     "metadata": {},
     "output_type": "execute_result"
    }
   ],
   "source": [
    "six = np.where(data%10==6)\n",
    "data[six]"
   ]
  },
  {
   "cell_type": "markdown",
   "id": "8147e893-341c-4105-a820-6efdb4beca81",
   "metadata": {},
   "source": [
    "## Exercise numpy and csv\n",
    "\n",
    "1. load the csv file: befkbhalderstatkode.csv into a numpy ndarray\n",
    "2. How many german children of 0 years were there in Copenhagen in 2015?\n",
    "3. create a function that can take any combination of the 4 parameters:AAR,BYDEL,ALDER,STATKODE and return population data\n",
    "4. create a new function like previous so that it can sum values for all ages if age is not provided to the function\n",
    "5. further add functionality to sum values if citizenship or area was not provided to function.\n",
    "6. create a new function that can also give average values for each year if year whas not provided.\n",
    "7. create a function, that given year and nationality can return which area had the most of these nationals by that year. Test it by finding out which area had the most Moroccan people in both 1992 and 2015\n",
    "8. Find the Area(s) where fewest foreingers lived in Copenhagen in 1992 and 2015 respectively\n",
    "9. Find out what age most French people have in 2015"
   ]
  },
  {
   "cell_type": "code",
   "execution_count": 4,
   "id": "0a260dcb-fdde-4ee2-ad7c-9bbc27c6f55b",
   "metadata": {},
   "outputs": [],
   "source": [
    "import numpy as np\n",
    "filename = './../data/befkbhalderstatkode.csv'\n",
    "\n",
    "bef_stats_df = np.genfromtxt(filename, delimiter=',', dtype=np.uint, skip_header=1)\n",
    "dd = bef_stats_df\n"
   ]
  },
  {
   "cell_type": "code",
   "execution_count": 5,
   "id": "7d6163cd-d9a4-4db9-95f3-cd17fff9ac70",
   "metadata": {},
   "outputs": [
    {
     "data": {
      "text/plain": [
       "array([[2015,    1,    0, 5180,    3],\n",
       "       [2015,    2,    0, 5180,    5],\n",
       "       [2015,    3,    0, 5180,    7],\n",
       "       [2015,    4,    0, 5180,    1],\n",
       "       [2015,    5,    0, 5180,    1],\n",
       "       [2015,    6,    0, 5180,    2],\n",
       "       [2015,    8,    0, 5180,    2],\n",
       "       [2015,    9,    0, 5180,    6],\n",
       "       [2015,   10,    0, 5180,    8]], dtype=uint64)"
      ]
     },
     "execution_count": 5,
     "metadata": {},
     "output_type": "execute_result"
    }
   ],
   "source": [
    "mask = np.where((dd[:,0] == 2015) & (dd[:,3] == 5180) & (dd[:,2] == 0 ))\n",
    "dd[mask]\n",
    "\n"
   ]
  },
  {
   "cell_type": "code",
   "execution_count": 6,
   "id": "9e9eb452-69af-4940-a57b-331f4809329d",
   "metadata": {},
   "outputs": [
    {
     "data": {
      "text/plain": [
       "35"
      ]
     },
     "execution_count": 6,
     "metadata": {},
     "output_type": "execute_result"
    }
   ],
   "source": [
    "np.sum(dd[mask][:,4])"
   ]
  },
  {
   "cell_type": "markdown",
   "id": "f436e545-a383-4579-8c20-09b0e9b75dca",
   "metadata": {},
   "source": [
    "create a function that can take any combination of the 4 parameters:AAR,BYDEL,ALDER,STATKODE and return population data"
   ]
  },
  {
   "cell_type": "code",
   "execution_count": 28,
   "id": "575d42d2-14dd-4daa-baa5-38d11b908270",
   "metadata": {},
   "outputs": [],
   "source": [
    "def get_pop(AAR,BYDEL,ALDER,STATKODE):\n",
    "    mask = np.where((dd[:,0] == AAR) & (dd[:,1] == BYDEL)  & (dd[:,3] == STATKODE) & (dd[:,2] == ALDER ))\n",
    "    return dd[mask]\n"
   ]
  },
  {
   "cell_type": "code",
   "execution_count": 29,
   "id": "d5ea7860-ab23-4503-81cf-f3dabd155c73",
   "metadata": {},
   "outputs": [
    {
     "data": {
      "text/plain": [
       "array([[2015,    1,   15, 5180,    1]], dtype=uint64)"
      ]
     },
     "execution_count": 29,
     "metadata": {},
     "output_type": "execute_result"
    }
   ],
   "source": [
    "get_pop(2015,1,15,5180)"
   ]
  },
  {
   "cell_type": "markdown",
   "id": "b294ebee-e4a7-4d7a-8daa-8645e4a42944",
   "metadata": {},
   "source": [
    "create a new function like previous so that it can sum values for all ages if age is not provided to the function"
   ]
  },
  {
   "cell_type": "code",
   "execution_count": 41,
   "id": "f73efab6-c3e4-4a5e-b60a-48799b80d6ca",
   "metadata": {},
   "outputs": [],
   "source": [
    "def get_pop_adv(AAR,BYDEL,STATKODE,ALDER=None):\n",
    "    year = (dd[:,0] == AAR)\n",
    "    city_part = (dd[:,1] == BYDEL)\n",
    "    state_code = (dd[:,3] == STATKODE)\n",
    "    \n",
    "    if ALDER != None:\n",
    "        age = (dd[:,2] == ALDER )\n",
    "        return dd[year & city_part & age & state_code]\n",
    "    else:\n",
    "        return np.sum(dd[year & city_part & state_code])\n",
    "\n"
   ]
  },
  {
   "cell_type": "code",
   "execution_count": 43,
   "id": "effd4447-f0b6-4840-a2cc-3ae8ca4f8e20",
   "metadata": {},
   "outputs": [
    {
     "data": {
      "text/plain": [
       "array([[2015,    1,   10, 5100,  404]], dtype=uint64)"
      ]
     },
     "execution_count": 43,
     "metadata": {},
     "output_type": "execute_result"
    }
   ],
   "source": [
    "get_pop_adv(2015,1,5100,10)"
   ]
  },
  {
   "cell_type": "markdown",
   "id": "d604ab20-1e24-449f-8b82-572c0ddbcf3c",
   "metadata": {},
   "source": [
    "further add functionality to sum values if citizenship or area was not provided to function."
   ]
  },
  {
   "cell_type": "code",
   "execution_count": null,
   "id": "14983048-6464-435a-900d-3c6585af5297",
   "metadata": {},
   "outputs": [],
   "source": []
  },
  {
   "cell_type": "code",
   "execution_count": null,
   "id": "cbf7b888-f7fd-463f-a62d-78b2bd71fba0",
   "metadata": {},
   "outputs": [],
   "source": []
  }
 ],
 "metadata": {
  "kernelspec": {
   "display_name": "Python 3 (ipykernel)",
   "language": "python",
   "name": "python3"
  },
  "language_info": {
   "codemirror_mode": {
    "name": "ipython",
    "version": 3
   },
   "file_extension": ".py",
   "mimetype": "text/x-python",
   "name": "python",
   "nbconvert_exporter": "python",
   "pygments_lexer": "ipython3",
   "version": "3.10.6"
  }
 },
 "nbformat": 4,
 "nbformat_minor": 5
}
