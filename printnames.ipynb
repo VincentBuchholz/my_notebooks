{
 "cells": [
  {
   "cell_type": "code",
   "execution_count": 18,
   "id": "e6221d93-aa72-4608-baa0-430ab1616c39",
   "metadata": {},
   "outputs": [
    {
     "name": "stdout",
     "output_type": "stream",
     "text": [
      "Traceback (most recent call last):\n",
      "  File \"/home/jovyan/my_notebooks/modules/printnames/sub1/mod1.py\", line 1, in <module>\n",
      "    from printnames.sub2.mod2 import hello\n",
      "ModuleNotFoundError: No module named 'printnames'\n"
     ]
    }
   ],
   "source": [
    "!python modules/printnames/sub1/mod1.py"
   ]
  },
  {
   "cell_type": "code",
   "execution_count": null,
   "id": "b119b856-0af7-45aa-a440-b51e24a4c387",
   "metadata": {},
   "outputs": [],
   "source": []
  },
  {
   "cell_type": "code",
   "execution_count": null,
   "id": "3ac56f2a-8245-4c90-9dc2-dc4b86a02d83",
   "metadata": {},
   "outputs": [],
   "source": []
  }
 ],
 "metadata": {
  "kernelspec": {
   "display_name": "Python 3 (ipykernel)",
   "language": "python",
   "name": "python3"
  },
  "language_info": {
   "codemirror_mode": {
    "name": "ipython",
    "version": 3
   },
   "file_extension": ".py",
   "mimetype": "text/x-python",
   "name": "python",
   "nbconvert_exporter": "python",
   "pygments_lexer": "ipython3",
   "version": "3.10.6"
  }
 },
 "nbformat": 4,
 "nbformat_minor": 5
}
