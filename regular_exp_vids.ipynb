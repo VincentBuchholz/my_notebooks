{
 "cells": [
  {
   "cell_type": "markdown",
   "id": "5b14d336-42b6-4a1c-af0e-2b7a9397b97a",
   "metadata": {},
   "source": [
    "## 01 Exercise with findall()\n",
    "In the following text find all the family names of everyone with first name Peter:\n",
    "\n",
    "\"Peter Hansen was meeting up with Jacob Fransen for a quick lunch, but first he had to go by Peter Beier to pick up some chocolate for his wife. Meanwhile Pastor Peter Jensen was going to church to give his sermon for the same 3 people in his parish. Those were Peter Kold and Henrik Halberg plus a third person who had recently moved here from Norway called Peter Harold\"."
   ]
  },
  {
   "cell_type": "markdown",
   "id": "845b79f4-6153-4547-af0d-5abaf9809f1e",
   "metadata": {},
   "source": [
    "## Most common patterns\n",
    "\n",
    "|No|**Symbol**|**Effect**|\n",
    "|--|--|--|\n",
    "|1|.|dot matches any character except newline|\n",
    "|2|\\w|matches any word character i.e alphanumeric (letters, digits) and underscore ( _ )|\n",
    "|3|\\W|matches non word characters|\n",
    "|4|\\d|matches a single digit|\n",
    "|5|\\D|matches a single character that is not a digit|\n",
    "|6|\\s|matches any white-spaces character like \\t and \\n|\n",
    "|7|\\S|matches single non white space character|\n",
    "|8|[abc]|matches single character in the set i.e either match a, b or c|\n",
    "|9|[^abc]|match a single character other than a, b and c|\n",
    "|10|[a-z]|match a single character in the range a to z.|\n",
    "|11|[a-zA-ZæøåÆØÅ]|match a single character in the range a-å or A-Å|\n",
    "|12|[0-9]|match a single character in the range 0-9|\n",
    "|13|^|match start at beginning of the string|\n",
    "|14|$|match start at end of the string|\n",
    "|15|+|matches one or more of the preceding character (greedy match).|\n",
    "|16|*|matches zero or more of the preceding character (greedy match).|\n",
    "|17|?|matches zero or one of the preceding character.|\n",
    "|18|*?|non-greedy matches zero or more|\n",
    "|19|??|non-greedy zero or one|\n",
    "|20|+?|non-greedy one or more|\n",
    "|21|\\||or|\n",
    "|22|`([\\w ]+)*`|one ore more words|"
   ]
  },
  {
   "cell_type": "code",
   "execution_count": 2,
   "id": "0112be00-d177-411c-9215-24ac02c26c97",
   "metadata": {},
   "outputs": [],
   "source": [
    "text = \"\"\"Peter Hansen was meeting up with Jacob Fransen for a quick lunch, \n",
    "        but first he had to go by Peter Beier to pick up some chocolate for \n",
    "        his wife. Meanwhile Pastor Peter Jensen was going to church to give \n",
    "        his sermon for the same 3 people in his parish. Those were Peter Kold \n",
    "        and Henrik Halberg plus a third person who had recently moved here \n",
    "        from Norway called Peter Harold\"\"\""
   ]
  },
  {
   "cell_type": "markdown",
   "id": "55c41f74-b207-4834-8f8b-002cdb437cf3",
   "metadata": {},
   "source": [
    "In the following text find all the family names of everyone with first name Peter:"
   ]
  },
  {
   "cell_type": "code",
   "execution_count": 3,
   "id": "ad6758fe-5eef-41ec-b380-3ca37657bcdc",
   "metadata": {},
   "outputs": [
    {
     "name": "stdout",
     "output_type": "stream",
     "text": [
      "['Peter Hansen', 'Peter Beier', 'Peter Jensen', 'Peter Kold', 'Peter Harold']\n"
     ]
    }
   ],
   "source": [
    "import re\n",
    "c = re.compile(r'Peter \\w+')\n",
    "\n",
    "peters = c.findall(text)\n",
    "print(peters)\n"
   ]
  },
  {
   "cell_type": "markdown",
   "id": "3d1f0665-e5f8-44b0-85c1-006470042d55",
   "metadata": {},
   "source": [
    "## 02 exercise\n",
    "\n",
    "We will play with the addresses from data/addresses.txt and the following regex patterns\n",
    "\n",
    "Write a regular expression, that you can use to create 5 lists with:\n",
    "\n",
    "  * all names in the list above\n",
    "  * all telephone numbers \n",
    "  * all zip codes\n",
    "  * all city names with corresponding zip code\n",
    "  * all street names"
   ]
  },
  {
   "cell_type": "code",
   "execution_count": 4,
   "id": "7e146937-b914-4e1a-9b5c-8df9c221a227",
   "metadata": {},
   "outputs": [],
   "source": [
    "import re\n",
    "\n",
    "with open('addresses.txt') as f:\n",
    "    addresses = f.read()"
   ]
  },
  {
   "cell_type": "code",
   "execution_count": null,
   "id": "5cb514ab-5067-4736-a32d-0797b08b5c66",
   "metadata": {},
   "outputs": [],
   "source": []
  },
  {
   "cell_type": "markdown",
   "id": "b6dd64b6-0907-4b77-bbc9-eac739e13bb5",
   "metadata": {},
   "source": [
    "all telephone numbers"
   ]
  },
  {
   "cell_type": "code",
   "execution_count": 5,
   "id": "ef80b594-5b41-43a8-ad47-df6dc7cb049d",
   "metadata": {},
   "outputs": [
    {
     "name": "stdout",
     "output_type": "stream",
     "text": [
      "['61 69 03 76', '75 50 75 14', '86 45 44 36', '76 42 00 81', '86 13 22 99', '97 95 20 01', '74 74 36 62', '45 80 47 14', '60 94 39 04', '35 38 97 81', '86 94 66 60', '20 44 00 35', '55 81 46 76', '20 83 70 65', '62 24 10 81', '20 83 88 62', '51 15 15 66', '28 59 06 93', '21 48 73 79', '64 82 11 54', '40 10 80 76', '21 79 64 18', '23 66 57 00', '60 45 79 69', '29 68 03 25']\n"
     ]
    }
   ],
   "source": [
    "phone_num_reg = re.compile(r'\\d{2} \\d{2} \\d{2} \\d{2}')\n",
    "\n",
    "phone_numbers = phone_num_reg.findall(addresses)\n",
    "print(phone_numbers)"
   ]
  },
  {
   "cell_type": "markdown",
   "id": "2ee0d177-59c3-45d4-b900-00785ad087f8",
   "metadata": {},
   "source": [
    "all zip codes"
   ]
  },
  {
   "cell_type": "code",
   "execution_count": 6,
   "id": "d239d9be-3db2-4070-a41a-4b110db997c6",
   "metadata": {},
   "outputs": [
    {
     "name": "stdout",
     "output_type": "stream",
     "text": [
      "['6760', '0002', '3460', '8920', '7000', '8000', '7760', '6240', '2840', '8210', '2100', '8464', '6630', '4780', '9240', '5762', '2650', '3300', '5550', '6051', '5450', '8586', '7900', '5200', '9700', '8370']\n"
     ]
    }
   ],
   "source": [
    "zip_reg = re.compile(r'\\d{4}')\n",
    "\n",
    "zip = zip_reg.findall(addresses)\n",
    "print(zip)"
   ]
  },
  {
   "cell_type": "markdown",
   "id": "a6a98920-1aec-4dd1-8710-3c636339535d",
   "metadata": {},
   "source": [
    "all city names with corresponding zip code"
   ]
  },
  {
   "cell_type": "code",
   "execution_count": 41,
   "id": "1cca027c-e48c-4383-b9c2-12485a473152",
   "metadata": {},
   "outputs": [
    {
     "name": "stdout",
     "output_type": "stream",
     "text": [
      "['6760 Ribe', '3460 Birker', '8920 Randers NV', '7000 Fredericia', '8000 Aarhus C', '7760 Hurup Thy', '6240 L', '2840 Holte', '8210 Aarhus V', '2100 K', '8464 Galten', '6630 R', '4780 Stege', '9240 Nibe', '5762 Vester Skerninge', '2650 Hvidovre', '3300 Frederiksv', '5550 Langeskov', '6051 Almind', '5450 Otterup', '7900 Nyk', '5200 Odense V', '9700 Br', '8370 Hadsten']\n"
     ]
    }
   ],
   "source": [
    "city_zip_reg = re.compile(r'\\d{4} [A-z]+ [A-z]+|\\d{4} [A-z]+')\n",
    "\n",
    "city_zip = city_zip_reg.findall(addresses)\n",
    "print(city_zip)"
   ]
  },
  {
   "cell_type": "markdown",
   "id": "1c2efe87-63d9-477b-b8b2-af0618382d9c",
   "metadata": {},
   "source": [
    "all street names"
   ]
  },
  {
   "cell_type": "code",
   "execution_count": 46,
   "id": "866808e8-b42b-4318-a4fe-d28a87bbe64b",
   "metadata": {},
   "outputs": [
    {
     "name": "stdout",
     "output_type": "stream",
     "text": [
      "['Klostergade 28', 'Bregnerødvej 75, st. 0002', 'Violvej 3\\nØ. Bjerregrav', 'Hyrdevej 16A', 'Brammersgade 45', 'Dalstræde 11', 'Jørgensgaardvej 13', 'Gammel Holtevej 60', 'Viborgvej 115, 1. TV', 'Korsørgade 4, 6. tv', 'Røddikvej 60', 'Rødding Nørregade 8', 'Noret 3', 'Jordemodervej 7', 'Filippavej 38', 'Næsborgvej 50, st. th', 'Dyrevænget 21', 'Pilelunden 23', 'Almind Østergade 15', 'Ørritslev Gade 7', 'Knudsvej 1', 'Fruevej 4', 'Dybdevej 30', 'Hammelmosevej 12', 'Birkevej 6']\n"
     ]
    }
   ],
   "source": [
    "street_reg = re.compile(r'[A-ø]+ \\d{1,3}\\W+\\w+\\W \\w+|[A-ø]+ [A-ø]+ \\d{1,2}|[A-ø]+ \\d{1,3}\\w|[A-ø]+ \\d{1,3}')\n",
    "\n",
    "street = street_reg.findall(addresses)\n",
    "print(street)"
   ]
  },
  {
   "cell_type": "code",
   "execution_count": null,
   "id": "b2b680b2-e22f-4469-8df0-03388c3e8db4",
   "metadata": {},
   "outputs": [],
   "source": []
  }
 ],
 "metadata": {
  "kernelspec": {
   "display_name": "Python 3 (ipykernel)",
   "language": "python",
   "name": "python3"
  },
  "language_info": {
   "codemirror_mode": {
    "name": "ipython",
    "version": 3
   },
   "file_extension": ".py",
   "mimetype": "text/x-python",
   "name": "python",
   "nbconvert_exporter": "python",
   "pygments_lexer": "ipython3",
   "version": "3.10.6"
  }
 },
 "nbformat": 4,
 "nbformat_minor": 5
}
