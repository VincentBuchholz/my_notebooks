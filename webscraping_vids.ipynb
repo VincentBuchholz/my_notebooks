{
 "cells": [
  {
   "cell_type": "markdown",
   "id": "ed8f6625-066d-4cd5-a9c2-8d787748bcde",
   "metadata": {},
   "source": [
    "## 01 Exercise: Writing a Simple Web Crawler\n",
    "\n",
    "1. Write a simple web scraper that can capture all images in a document (like: https://www.cphbusiness.dk/). \n",
    "2. Write to a .md file in a format so all images are shown when markdown is pasted and executed in a cell\n",
    "3. Extend the web scraper to find all links (`<a>` elements) in the document.\n",
    "4. If you have time, let the crawler find all links in the linked documents as well (so we get one more level of the hypertext graph). Use threads if helpfull.\n",
    "\n",
    "\n",
    "In case a page returns a status code, which is not `200` we just disregard this page. See https://en.wikipedia.org/wiki/List_of_HTTP_status_codes for more detailes on the various HTTP status codes.\n"
   ]
  },
  {
   "cell_type": "markdown",
   "id": "6df807b4-018f-4ea0-90a0-de15f782a38f",
   "metadata": {},
   "source": [
    "Write a simple web scraper that can capture all images in a document (like: https://www.cphbusiness.dk/). \n",
    "Write to a .md file in a format so all images are shown when markdown is pasted and executed in a cell"
   ]
  },
  {
   "cell_type": "code",
   "execution_count": 1,
   "id": "9cdd8cff-879f-4293-b8e6-feaeab6cc221",
   "metadata": {},
   "outputs": [],
   "source": [
    "import bs4\n",
    "import requests\n",
    "\n",
    "r = requests.get('https://www.google.dk/search?site=&tbm=isch&source=hp&biw=1163&bih=812&q=minions&oq=minions')\n",
    "r.raise_for_status()\n",
    "soup = bs4.BeautifulSoup(r.text, 'html.parser')\n",
    "imgs = soup.select('img')"
   ]
  },
  {
   "cell_type": "code",
   "execution_count": 2,
   "id": "692d13ee-7af1-42d2-bd83-1865765b5fdc",
   "metadata": {},
   "outputs": [],
   "source": [
    "with open('img_output.md','w') as output:\n",
    "    for img in imgs:\n",
    "        if img.get('src') and img.get('src').startswith('http'):\n",
    "            output.write(f'![img]({img.get(\"src\")})')\n",
    "            output.write('\\n')"
   ]
  },
  {
   "cell_type": "markdown",
   "id": "8eb6ad26-5c35-4efe-9a1d-4fdb57286c45",
   "metadata": {},
   "source": [
    "# %load img_output.md\n",
    "![img](https://encrypted-tbn0.gstatic.com/images?q=tbn:ANd9GcQsoEDUxaYMfyrf9YpsbZI84gSY5xvvjQ-dOFy9pqD2nFir8-D4Jmed-GAFXQ&s)\n",
    "![img](https://encrypted-tbn0.gstatic.com/images?q=tbn:ANd9GcQeyctG9tUDC5VuiPT0fmcNfpka1vbjkyaz4b0EfwEFJbM6thWGtBZA4IbpOR8&s)\n",
    "![img](https://encrypted-tbn0.gstatic.com/images?q=tbn:ANd9GcSbX6jFwptGkZ0GFTx0s5HSuqx-6ichbd9yhFdLCIOTWi7ng7vKBfD_Yuch7zI&s)\n",
    "![img](https://encrypted-tbn0.gstatic.com/images?q=tbn:ANd9GcQc8M4CKrXBdTY3U4ek9Z1mITF82r8qoN6xiLGPzaQvT7r_Eg0BBMN1GuP-CA&s)\n",
    "![img](https://encrypted-tbn0.gstatic.com/images?q=tbn:ANd9GcSxfMwig0ZYdlJpPsFjw8HefcjgMTeTlB5hWDXSlSQTsnQXYnPkheh3mqo8Ayg&s)\n",
    "![img](https://encrypted-tbn0.gstatic.com/images?q=tbn:ANd9GcTnUim_kuO8HLKOi_3p7VdlO3Tm-5znWb1oIiq13oBqxsA9yn-UnJLdZGZnNnc&s)\n",
    "![img](https://encrypted-tbn0.gstatic.com/images?q=tbn:ANd9GcSJWWVrFCSqO1s9SLTpANuqMXnJYUYvCdCT29e3J7dNsNU8CIvSnVl9eP71QVQ&s)\n",
    "![img](https://encrypted-tbn0.gstatic.com/images?q=tbn:ANd9GcTn5_eOGIH9BduB4CyUjj0kQusDWph8P9HFuV4F52QU9Nf38sy8arZR0hE5nw&s)\n",
    "![img](https://encrypted-tbn0.gstatic.com/images?q=tbn:ANd9GcQS-E-b-s9SqJQqkmNyyjFIyovLio_JHQxvRVrSwjZQGGxzFDLbHilciPNLFA&s)\n",
    "![img](https://encrypted-tbn0.gstatic.com/images?q=tbn:ANd9GcQ9SBH6JsMx7L-dOETZEb2I2VWHlgNWAAYDPU61QSvs9jCjSkNUZiiMN_pG9g&s)\n",
    "![img](https://encrypted-tbn0.gstatic.com/images?q=tbn:ANd9GcSICpSwMbAk0oor-IoPVTsGMuQXSc-kkaCZVT45pjZMm9r4eFirPzZj2xDz418&s)\n",
    "![img](https://encrypted-tbn0.gstatic.com/images?q=tbn:ANd9GcRKyCmsZbx_imIkVIyxeU4D1RXHR6SBOEJWFCK3Lw1m6yyxBeKLx7P_sieWcA&s)\n",
    "![img](https://encrypted-tbn0.gstatic.com/images?q=tbn:ANd9GcTF1_2UxVJrQC4QVcfai4uxDDrMh8kr5AIz5oW4hi8M7ODHW_O-zW2QQFJ9Yg&s)\n",
    "![img](https://encrypted-tbn0.gstatic.com/images?q=tbn:ANd9GcTXLWWEmiPzhc9kx-eap5BspfL8bMv-IJgfMQM0DNd4Co13jo8wII1cEcicNg&s)\n",
    "![img](https://encrypted-tbn0.gstatic.com/images?q=tbn:ANd9GcR4myw7zwMK7cA0erzJDqsw5G2k7mKlCmZm58SgYbXdB5kP3KepCQK3UPhnuA&s)\n",
    "![img](https://encrypted-tbn0.gstatic.com/images?q=tbn:ANd9GcSRn5uHy2vxcxmdPsUEG91dDhDG2YslWzvBHduomwAUGZIk0H68Wc5kop15fw&s)\n",
    "![img](https://encrypted-tbn0.gstatic.com/images?q=tbn:ANd9GcRdt-2Vv4v0DjQQNsPfSInyZWOLKJpfDwnYFnXUB-bIPm1NeC-nJJyawG8mJw&s)\n",
    "![img](https://encrypted-tbn0.gstatic.com/images?q=tbn:ANd9GcRUDRQMPt6O6vw6R7jEVSr13EtjF-jlzGTsoH0eTIcnAxynpBZPFyBsXvADgQ&s)\n",
    "![img](https://encrypted-tbn0.gstatic.com/images?q=tbn:ANd9GcQQ9xAJQYxaFNfGzTXiApu4udilfwWtoYdyjJUczAQJTC-imTz8myqwYczByJs&s)\n",
    "![img](https://encrypted-tbn0.gstatic.com/images?q=tbn:ANd9GcR8Yi6HYUFafkmkYUvTFvhsf9WAdhkRonsCCJiuazRwqAcfHKf91-Tid3miRA&s)\n"
   ]
  },
  {
   "cell_type": "markdown",
   "id": "d0364104-133e-4589-80d0-7147b465da53",
   "metadata": {},
   "source": [
    "Extend the web scraper to find all links (`<a>` elements) in the document."
   ]
  },
  {
   "cell_type": "code",
   "execution_count": 3,
   "id": "e05736a7-fd21-483c-a430-56e1f8747616",
   "metadata": {},
   "outputs": [],
   "source": [
    "import bs4\n",
    "import requests\n",
    "\n",
    "r = requests.get('https://www.cphbusiness.dk/')\n",
    "r.raise_for_status()\n",
    "soup = bs4.BeautifulSoup(r.text, 'html.parser')\n",
    "links = soup.select('a')"
   ]
  },
  {
   "cell_type": "code",
   "execution_count": 4,
   "id": "d0955e93-82e4-451e-92b9-e1c9619b2038",
   "metadata": {},
   "outputs": [
    {
     "name": "stdout",
     "output_type": "stream",
     "text": [
      "https://intra.cphbusiness.dk/\n",
      "https://intra.cphbusiness.dk/\n",
      "https://cphbusiness.mrooms.net/\n",
      "https://selvbetjening.cphbusiness.dk/\n",
      "https://cloud.timeedit.net/cphbusiness_esas_test/web/3/ri1Q7.html\n",
      "https://wayf.survey-xact.dk/\n",
      "https://europe.wiseflow.net/login/\n",
      "https://efif-my.sharepoint.com/_layouts/15/MySite.aspx?MySiteRedirect=AllDocuments\n",
      "http://cphbusiness.dk/guides\n",
      "https://www.cphbusiness.dk/om-cphbusiness/alumni#jobportaler\n",
      "https://www.facebook.com/copenhagenbusinessacademy\n",
      "https://www.linkedin.com/company/copenhagen-business-academy\n",
      "https://twitter.com/cphbusiness\n",
      "https://www.instagram.com/cphbusiness/\n"
     ]
    }
   ],
   "source": [
    "for link in links:\n",
    "    if link.get('href') and link.get('href').startswith('http'):\n",
    "        print(link.get('href'))"
   ]
  },
  {
   "cell_type": "code",
   "execution_count": null,
   "id": "a576e6b7-1dce-473f-8f44-cf8ef20d3cd9",
   "metadata": {},
   "outputs": [],
   "source": []
  }
 ],
 "metadata": {
  "kernelspec": {
   "display_name": "Python 3 (ipykernel)",
   "language": "python",
   "name": "python3"
  },
  "language_info": {
   "codemirror_mode": {
    "name": "ipython",
    "version": 3
   },
   "file_extension": ".py",
   "mimetype": "text/x-python",
   "name": "python",
   "nbconvert_exporter": "python",
   "pygments_lexer": "ipython3",
   "version": "3.10.6"
  }
 },
 "nbformat": 4,
 "nbformat_minor": 5
}
